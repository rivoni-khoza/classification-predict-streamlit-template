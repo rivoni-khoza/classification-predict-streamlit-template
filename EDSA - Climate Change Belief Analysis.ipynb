{
 "cells": [
  {
   "cell_type": "markdown",
   "id": "96341a05",
   "metadata": {},
   "source": [
    "# EDSA - Climate Change Belief Analysis 2022\n",
    "\n",
    "# Predict an individual’s belief in climate change based on historical tweet data"
   ]
  },
  {
   "cell_type": "markdown",
   "id": "5434d27a",
   "metadata": {},
   "source": [
    "Importing Libraries"
   ]
  },
  {
   "cell_type": "code",
   "execution_count": 1,
   "id": "0742a495",
   "metadata": {},
   "outputs": [],
   "source": [
    "import nltk\n",
    "\n",
    "import numpy as np\n",
    "import pandas as pd\n",
    "\n",
    "import matplotlib.pyplot as plt\n",
    "%matplotlib inline\n",
    "import seaborn as sns\n",
    "import re\n",
    "import warnings\n",
    "warnings.filterwarnings('ignore')\n",
    "# set plot style\n",
    "sns.set()"
   ]
  },
  {
   "cell_type": "markdown",
   "id": "0cb551d3",
   "metadata": {},
   "source": [
    "Time to import our given data"
   ]
  },
  {
   "cell_type": "code",
   "execution_count": 2,
   "id": "84f61d7f",
   "metadata": {},
   "outputs": [],
   "source": [
    "df_train = pd.read_csv('train.csv')    #Importing the given train data"
   ]
  },
  {
   "cell_type": "code",
   "execution_count": 3,
   "id": "3f070ef0",
   "metadata": {},
   "outputs": [
    {
     "data": {
      "text/html": [
       "<div>\n",
       "<style scoped>\n",
       "    .dataframe tbody tr th:only-of-type {\n",
       "        vertical-align: middle;\n",
       "    }\n",
       "\n",
       "    .dataframe tbody tr th {\n",
       "        vertical-align: top;\n",
       "    }\n",
       "\n",
       "    .dataframe thead th {\n",
       "        text-align: right;\n",
       "    }\n",
       "</style>\n",
       "<table border=\"1\" class=\"dataframe\">\n",
       "  <thead>\n",
       "    <tr style=\"text-align: right;\">\n",
       "      <th></th>\n",
       "      <th>sentiment</th>\n",
       "      <th>message</th>\n",
       "      <th>tweetid</th>\n",
       "    </tr>\n",
       "  </thead>\n",
       "  <tbody>\n",
       "    <tr>\n",
       "      <th>0</th>\n",
       "      <td>1</td>\n",
       "      <td>PolySciMajor EPA chief doesn't think carbon di...</td>\n",
       "      <td>625221</td>\n",
       "    </tr>\n",
       "    <tr>\n",
       "      <th>1</th>\n",
       "      <td>1</td>\n",
       "      <td>It's not like we lack evidence of anthropogeni...</td>\n",
       "      <td>126103</td>\n",
       "    </tr>\n",
       "    <tr>\n",
       "      <th>2</th>\n",
       "      <td>2</td>\n",
       "      <td>RT @RawStory: Researchers say we have three ye...</td>\n",
       "      <td>698562</td>\n",
       "    </tr>\n",
       "    <tr>\n",
       "      <th>3</th>\n",
       "      <td>1</td>\n",
       "      <td>#TodayinMaker# WIRED : 2016 was a pivotal year...</td>\n",
       "      <td>573736</td>\n",
       "    </tr>\n",
       "    <tr>\n",
       "      <th>4</th>\n",
       "      <td>1</td>\n",
       "      <td>RT @SoyNovioDeTodas: It's 2016, and a racist, ...</td>\n",
       "      <td>466954</td>\n",
       "    </tr>\n",
       "  </tbody>\n",
       "</table>\n",
       "</div>"
      ],
      "text/plain": [
       "   sentiment                                            message  tweetid\n",
       "0          1  PolySciMajor EPA chief doesn't think carbon di...   625221\n",
       "1          1  It's not like we lack evidence of anthropogeni...   126103\n",
       "2          2  RT @RawStory: Researchers say we have three ye...   698562\n",
       "3          1  #TodayinMaker# WIRED : 2016 was a pivotal year...   573736\n",
       "4          1  RT @SoyNovioDeTodas: It's 2016, and a racist, ...   466954"
      ]
     },
     "execution_count": 3,
     "metadata": {},
     "output_type": "execute_result"
    }
   ],
   "source": [
    "df_train.head() # Checking the first five rows to understand the structure of the data"
   ]
  },
  {
   "cell_type": "code",
   "execution_count": 4,
   "id": "ffeaa83f",
   "metadata": {},
   "outputs": [],
   "source": [
    "df_test = pd.read_csv('test_with_no_labels.csv') #The given test data"
   ]
  },
  {
   "cell_type": "code",
   "execution_count": 5,
   "id": "7317b89d",
   "metadata": {
    "scrolled": true
   },
   "outputs": [
    {
     "data": {
      "text/html": [
       "<div>\n",
       "<style scoped>\n",
       "    .dataframe tbody tr th:only-of-type {\n",
       "        vertical-align: middle;\n",
       "    }\n",
       "\n",
       "    .dataframe tbody tr th {\n",
       "        vertical-align: top;\n",
       "    }\n",
       "\n",
       "    .dataframe thead th {\n",
       "        text-align: right;\n",
       "    }\n",
       "</style>\n",
       "<table border=\"1\" class=\"dataframe\">\n",
       "  <thead>\n",
       "    <tr style=\"text-align: right;\">\n",
       "      <th></th>\n",
       "      <th>message</th>\n",
       "      <th>tweetid</th>\n",
       "    </tr>\n",
       "  </thead>\n",
       "  <tbody>\n",
       "    <tr>\n",
       "      <th>0</th>\n",
       "      <td>Europe will now be looking to China to make su...</td>\n",
       "      <td>169760</td>\n",
       "    </tr>\n",
       "    <tr>\n",
       "      <th>1</th>\n",
       "      <td>Combine this with the polling of staffers re c...</td>\n",
       "      <td>35326</td>\n",
       "    </tr>\n",
       "    <tr>\n",
       "      <th>2</th>\n",
       "      <td>The scary, unimpeachable evidence that climate...</td>\n",
       "      <td>224985</td>\n",
       "    </tr>\n",
       "    <tr>\n",
       "      <th>3</th>\n",
       "      <td>@Karoli @morgfair @OsborneInk @dailykos \\nPuti...</td>\n",
       "      <td>476263</td>\n",
       "    </tr>\n",
       "    <tr>\n",
       "      <th>4</th>\n",
       "      <td>RT @FakeWillMoore: 'Female orgasms cause globa...</td>\n",
       "      <td>872928</td>\n",
       "    </tr>\n",
       "  </tbody>\n",
       "</table>\n",
       "</div>"
      ],
      "text/plain": [
       "                                             message  tweetid\n",
       "0  Europe will now be looking to China to make su...   169760\n",
       "1  Combine this with the polling of staffers re c...    35326\n",
       "2  The scary, unimpeachable evidence that climate...   224985\n",
       "3  @Karoli @morgfair @OsborneInk @dailykos \\nPuti...   476263\n",
       "4  RT @FakeWillMoore: 'Female orgasms cause globa...   872928"
      ]
     },
     "execution_count": 5,
     "metadata": {},
     "output_type": "execute_result"
    }
   ],
   "source": [
    "df_test.head()  # Checking the first five rows to understand the structure of the data"
   ]
  },
  {
   "cell_type": "markdown",
   "id": "6ec5c133",
   "metadata": {},
   "source": [
    "From the above, it is clear that the data needs some cleaning. Before then, let us examine the submission sample data provided."
   ]
  },
  {
   "cell_type": "code",
   "execution_count": 6,
   "id": "b35aa4a3",
   "metadata": {},
   "outputs": [],
   "source": [
    "sample = pd.read_csv('sample_submission.csv') # The sample data for submission as well"
   ]
  },
  {
   "cell_type": "code",
   "execution_count": 7,
   "id": "772a1714",
   "metadata": {
    "scrolled": true
   },
   "outputs": [
    {
     "data": {
      "text/html": [
       "<div>\n",
       "<style scoped>\n",
       "    .dataframe tbody tr th:only-of-type {\n",
       "        vertical-align: middle;\n",
       "    }\n",
       "\n",
       "    .dataframe tbody tr th {\n",
       "        vertical-align: top;\n",
       "    }\n",
       "\n",
       "    .dataframe thead th {\n",
       "        text-align: right;\n",
       "    }\n",
       "</style>\n",
       "<table border=\"1\" class=\"dataframe\">\n",
       "  <thead>\n",
       "    <tr style=\"text-align: right;\">\n",
       "      <th></th>\n",
       "      <th>tweetid</th>\n",
       "      <th>sentiment</th>\n",
       "    </tr>\n",
       "  </thead>\n",
       "  <tbody>\n",
       "    <tr>\n",
       "      <th>0</th>\n",
       "      <td>169760</td>\n",
       "      <td>1</td>\n",
       "    </tr>\n",
       "    <tr>\n",
       "      <th>1</th>\n",
       "      <td>35326</td>\n",
       "      <td>1</td>\n",
       "    </tr>\n",
       "    <tr>\n",
       "      <th>2</th>\n",
       "      <td>224985</td>\n",
       "      <td>1</td>\n",
       "    </tr>\n",
       "    <tr>\n",
       "      <th>3</th>\n",
       "      <td>476263</td>\n",
       "      <td>1</td>\n",
       "    </tr>\n",
       "    <tr>\n",
       "      <th>4</th>\n",
       "      <td>872928</td>\n",
       "      <td>1</td>\n",
       "    </tr>\n",
       "  </tbody>\n",
       "</table>\n",
       "</div>"
      ],
      "text/plain": [
       "   tweetid  sentiment\n",
       "0   169760          1\n",
       "1    35326          1\n",
       "2   224985          1\n",
       "3   476263          1\n",
       "4   872928          1"
      ]
     },
     "execution_count": 7,
     "metadata": {},
     "output_type": "execute_result"
    }
   ],
   "source": [
    "sample.head() # Checking to know what it looks like"
   ]
  },
  {
   "cell_type": "markdown",
   "id": "49dad7c2",
   "metadata": {},
   "source": [
    "# Lets clean the train and test data"
   ]
  },
  {
   "cell_type": "code",
   "execution_count": 8,
   "id": "ab28574a",
   "metadata": {},
   "outputs": [
    {
     "data": {
      "text/plain": [
       "(15819, 3)"
      ]
     },
     "execution_count": 8,
     "metadata": {},
     "output_type": "execute_result"
    }
   ],
   "source": [
    "df_train.shape #Checking the train data size - Number of rows and columns"
   ]
  },
  {
   "cell_type": "code",
   "execution_count": 55,
   "id": "f0c9768c",
   "metadata": {},
   "outputs": [
    {
     "data": {
      "text/plain": [
       "15819"
      ]
     },
     "execution_count": 55,
     "metadata": {},
     "output_type": "execute_result"
    }
   ],
   "source": [
    "df_train.tweetid.nunique() #no duplicate tweets in the train data"
   ]
  },
  {
   "cell_type": "code",
   "execution_count": null,
   "id": "35bb9141",
   "metadata": {},
   "outputs": [],
   "source": []
  },
  {
   "cell_type": "code",
   "execution_count": 9,
   "id": "39ac4918",
   "metadata": {},
   "outputs": [
    {
     "data": {
      "text/plain": [
       "(10546, 2)"
      ]
     },
     "execution_count": 9,
     "metadata": {},
     "output_type": "execute_result"
    }
   ],
   "source": [
    "df_test.shape  #Checking the test data size - Number of rows and columns"
   ]
  },
  {
   "cell_type": "markdown",
   "id": "35ba7494",
   "metadata": {},
   "source": [
    "We will re-arrange the columns of the train data to allign properly with that of the test data."
   ]
  },
  {
   "cell_type": "code",
   "execution_count": 10,
   "id": "f4ee88b6",
   "metadata": {},
   "outputs": [],
   "source": [
    "df_sentiment = df_train['sentiment']"
   ]
  },
  {
   "cell_type": "code",
   "execution_count": 11,
   "id": "c9c36a18",
   "metadata": {},
   "outputs": [],
   "source": [
    "df_train = df_train.drop(['sentiment'], axis = 1)"
   ]
  },
  {
   "cell_type": "code",
   "execution_count": 12,
   "id": "3bf7b18b",
   "metadata": {},
   "outputs": [],
   "source": [
    "df_train['sentiment'] = df_sentiment"
   ]
  },
  {
   "cell_type": "code",
   "execution_count": 13,
   "id": "922939e9",
   "metadata": {},
   "outputs": [
    {
     "data": {
      "text/html": [
       "<div>\n",
       "<style scoped>\n",
       "    .dataframe tbody tr th:only-of-type {\n",
       "        vertical-align: middle;\n",
       "    }\n",
       "\n",
       "    .dataframe tbody tr th {\n",
       "        vertical-align: top;\n",
       "    }\n",
       "\n",
       "    .dataframe thead th {\n",
       "        text-align: right;\n",
       "    }\n",
       "</style>\n",
       "<table border=\"1\" class=\"dataframe\">\n",
       "  <thead>\n",
       "    <tr style=\"text-align: right;\">\n",
       "      <th></th>\n",
       "      <th>message</th>\n",
       "      <th>tweetid</th>\n",
       "      <th>sentiment</th>\n",
       "    </tr>\n",
       "  </thead>\n",
       "  <tbody>\n",
       "    <tr>\n",
       "      <th>0</th>\n",
       "      <td>PolySciMajor EPA chief doesn't think carbon di...</td>\n",
       "      <td>625221</td>\n",
       "      <td>1</td>\n",
       "    </tr>\n",
       "    <tr>\n",
       "      <th>1</th>\n",
       "      <td>It's not like we lack evidence of anthropogeni...</td>\n",
       "      <td>126103</td>\n",
       "      <td>1</td>\n",
       "    </tr>\n",
       "    <tr>\n",
       "      <th>2</th>\n",
       "      <td>RT @RawStory: Researchers say we have three ye...</td>\n",
       "      <td>698562</td>\n",
       "      <td>2</td>\n",
       "    </tr>\n",
       "    <tr>\n",
       "      <th>3</th>\n",
       "      <td>#TodayinMaker# WIRED : 2016 was a pivotal year...</td>\n",
       "      <td>573736</td>\n",
       "      <td>1</td>\n",
       "    </tr>\n",
       "    <tr>\n",
       "      <th>4</th>\n",
       "      <td>RT @SoyNovioDeTodas: It's 2016, and a racist, ...</td>\n",
       "      <td>466954</td>\n",
       "      <td>1</td>\n",
       "    </tr>\n",
       "  </tbody>\n",
       "</table>\n",
       "</div>"
      ],
      "text/plain": [
       "                                             message  tweetid  sentiment\n",
       "0  PolySciMajor EPA chief doesn't think carbon di...   625221          1\n",
       "1  It's not like we lack evidence of anthropogeni...   126103          1\n",
       "2  RT @RawStory: Researchers say we have three ye...   698562          2\n",
       "3  #TodayinMaker# WIRED : 2016 was a pivotal year...   573736          1\n",
       "4  RT @SoyNovioDeTodas: It's 2016, and a racist, ...   466954          1"
      ]
     },
     "execution_count": 13,
     "metadata": {},
     "output_type": "execute_result"
    }
   ],
   "source": [
    "df_train.head() #Checking to see the result of the re-arrangement"
   ]
  },
  {
   "cell_type": "code",
   "execution_count": 14,
   "id": "7d1e40ac",
   "metadata": {},
   "outputs": [
    {
     "data": {
      "text/plain": [
       "message      0\n",
       "tweetid      0\n",
       "sentiment    0\n",
       "dtype: int64"
      ]
     },
     "execution_count": 14,
     "metadata": {},
     "output_type": "execute_result"
    }
   ],
   "source": [
    "df_train.isnull().sum() #checking for null values in the train data"
   ]
  },
  {
   "cell_type": "code",
   "execution_count": 15,
   "id": "c4faebaa",
   "metadata": {},
   "outputs": [
    {
     "data": {
      "text/plain": [
       "message    0\n",
       "tweetid    0\n",
       "dtype: int64"
      ]
     },
     "execution_count": 15,
     "metadata": {},
     "output_type": "execute_result"
    }
   ],
   "source": [
    "df_test.isnull().sum() #checking for null values in the test data"
   ]
  },
  {
   "cell_type": "code",
   "execution_count": 16,
   "id": "7cb58d6d",
   "metadata": {},
   "outputs": [
    {
     "name": "stdout",
     "output_type": "stream",
     "text": [
      "<class 'pandas.core.frame.DataFrame'>\n",
      "RangeIndex: 15819 entries, 0 to 15818\n",
      "Data columns (total 3 columns):\n",
      " #   Column     Non-Null Count  Dtype \n",
      "---  ------     --------------  ----- \n",
      " 0   message    15819 non-null  object\n",
      " 1   tweetid    15819 non-null  int64 \n",
      " 2   sentiment  15819 non-null  int64 \n",
      "dtypes: int64(2), object(1)\n",
      "memory usage: 370.9+ KB\n"
     ]
    }
   ],
   "source": [
    "df_train.info() #Checking the data types for each column in the train data"
   ]
  },
  {
   "cell_type": "code",
   "execution_count": 17,
   "id": "934ac961",
   "metadata": {
    "scrolled": true
   },
   "outputs": [
    {
     "name": "stdout",
     "output_type": "stream",
     "text": [
      "<class 'pandas.core.frame.DataFrame'>\n",
      "RangeIndex: 10546 entries, 0 to 10545\n",
      "Data columns (total 2 columns):\n",
      " #   Column   Non-Null Count  Dtype \n",
      "---  ------   --------------  ----- \n",
      " 0   message  10546 non-null  object\n",
      " 1   tweetid  10546 non-null  int64 \n",
      "dtypes: int64(1), object(1)\n",
      "memory usage: 164.9+ KB\n"
     ]
    }
   ],
   "source": [
    "df_test.info() #Checking the data types for each column in the test data"
   ]
  },
  {
   "cell_type": "markdown",
   "id": "6da8db5e",
   "metadata": {},
   "source": [
    "Merging both train and test data to ease data cleaning of both data sets."
   ]
  },
  {
   "cell_type": "code",
   "execution_count": 18,
   "id": "7a6afc97",
   "metadata": {},
   "outputs": [
    {
     "data": {
      "text/html": [
       "<div>\n",
       "<style scoped>\n",
       "    .dataframe tbody tr th:only-of-type {\n",
       "        vertical-align: middle;\n",
       "    }\n",
       "\n",
       "    .dataframe tbody tr th {\n",
       "        vertical-align: top;\n",
       "    }\n",
       "\n",
       "    .dataframe thead th {\n",
       "        text-align: right;\n",
       "    }\n",
       "</style>\n",
       "<table border=\"1\" class=\"dataframe\">\n",
       "  <thead>\n",
       "    <tr style=\"text-align: right;\">\n",
       "      <th></th>\n",
       "      <th>message</th>\n",
       "      <th>tweetid</th>\n",
       "      <th>sentiment</th>\n",
       "    </tr>\n",
       "  </thead>\n",
       "  <tbody>\n",
       "    <tr>\n",
       "      <th>0</th>\n",
       "      <td>PolySciMajor EPA chief doesn't think carbon di...</td>\n",
       "      <td>625221</td>\n",
       "      <td>1.0</td>\n",
       "    </tr>\n",
       "    <tr>\n",
       "      <th>1</th>\n",
       "      <td>It's not like we lack evidence of anthropogeni...</td>\n",
       "      <td>126103</td>\n",
       "      <td>1.0</td>\n",
       "    </tr>\n",
       "    <tr>\n",
       "      <th>2</th>\n",
       "      <td>RT @RawStory: Researchers say we have three ye...</td>\n",
       "      <td>698562</td>\n",
       "      <td>2.0</td>\n",
       "    </tr>\n",
       "    <tr>\n",
       "      <th>3</th>\n",
       "      <td>#TodayinMaker# WIRED : 2016 was a pivotal year...</td>\n",
       "      <td>573736</td>\n",
       "      <td>1.0</td>\n",
       "    </tr>\n",
       "    <tr>\n",
       "      <th>4</th>\n",
       "      <td>RT @SoyNovioDeTodas: It's 2016, and a racist, ...</td>\n",
       "      <td>466954</td>\n",
       "      <td>1.0</td>\n",
       "    </tr>\n",
       "  </tbody>\n",
       "</table>\n",
       "</div>"
      ],
      "text/plain": [
       "                                             message  tweetid  sentiment\n",
       "0  PolySciMajor EPA chief doesn't think carbon di...   625221        1.0\n",
       "1  It's not like we lack evidence of anthropogeni...   126103        1.0\n",
       "2  RT @RawStory: Researchers say we have three ye...   698562        2.0\n",
       "3  #TodayinMaker# WIRED : 2016 was a pivotal year...   573736        1.0\n",
       "4  RT @SoyNovioDeTodas: It's 2016, and a racist, ...   466954        1.0"
      ]
     },
     "execution_count": 18,
     "metadata": {},
     "output_type": "execute_result"
    }
   ],
   "source": [
    "merged_data = pd.concat([df_train, df_test]) #merging the data\n",
    "merged_data.head() #checking the first five rows of the merged data"
   ]
  },
  {
   "cell_type": "code",
   "execution_count": 19,
   "id": "40a95ead",
   "metadata": {},
   "outputs": [
    {
     "data": {
      "text/html": [
       "<div>\n",
       "<style scoped>\n",
       "    .dataframe tbody tr th:only-of-type {\n",
       "        vertical-align: middle;\n",
       "    }\n",
       "\n",
       "    .dataframe tbody tr th {\n",
       "        vertical-align: top;\n",
       "    }\n",
       "\n",
       "    .dataframe thead th {\n",
       "        text-align: right;\n",
       "    }\n",
       "</style>\n",
       "<table border=\"1\" class=\"dataframe\">\n",
       "  <thead>\n",
       "    <tr style=\"text-align: right;\">\n",
       "      <th></th>\n",
       "      <th>message</th>\n",
       "      <th>tweetid</th>\n",
       "      <th>sentiment</th>\n",
       "    </tr>\n",
       "  </thead>\n",
       "  <tbody>\n",
       "    <tr>\n",
       "      <th>10541</th>\n",
       "      <td>RT @BrittanyBohrer: Brb, writing a poem about ...</td>\n",
       "      <td>895714</td>\n",
       "      <td>NaN</td>\n",
       "    </tr>\n",
       "    <tr>\n",
       "      <th>10542</th>\n",
       "      <td>2016: the year climate change came home: Durin...</td>\n",
       "      <td>875167</td>\n",
       "      <td>NaN</td>\n",
       "    </tr>\n",
       "    <tr>\n",
       "      <th>10543</th>\n",
       "      <td>RT @loop_vanuatu: Pacific countries positive a...</td>\n",
       "      <td>78329</td>\n",
       "      <td>NaN</td>\n",
       "    </tr>\n",
       "    <tr>\n",
       "      <th>10544</th>\n",
       "      <td>RT @xanria_00018: You’re so hot, you must be t...</td>\n",
       "      <td>867455</td>\n",
       "      <td>NaN</td>\n",
       "    </tr>\n",
       "    <tr>\n",
       "      <th>10545</th>\n",
       "      <td>RT @chloebalaoing: climate change is a global ...</td>\n",
       "      <td>470892</td>\n",
       "      <td>NaN</td>\n",
       "    </tr>\n",
       "  </tbody>\n",
       "</table>\n",
       "</div>"
      ],
      "text/plain": [
       "                                                 message  tweetid  sentiment\n",
       "10541  RT @BrittanyBohrer: Brb, writing a poem about ...   895714        NaN\n",
       "10542  2016: the year climate change came home: Durin...   875167        NaN\n",
       "10543  RT @loop_vanuatu: Pacific countries positive a...    78329        NaN\n",
       "10544  RT @xanria_00018: You’re so hot, you must be t...   867455        NaN\n",
       "10545  RT @chloebalaoing: climate change is a global ...   470892        NaN"
      ]
     },
     "execution_count": 19,
     "metadata": {},
     "output_type": "execute_result"
    }
   ],
   "source": [
    "merged_data.tail()  #checking the last five rows of the merged data"
   ]
  },
  {
   "cell_type": "code",
   "execution_count": 20,
   "id": "dd0e0b73",
   "metadata": {},
   "outputs": [
    {
     "name": "stdout",
     "output_type": "stream",
     "text": [
      "<class 'pandas.core.frame.DataFrame'>\n",
      "Int64Index: 26365 entries, 0 to 10545\n",
      "Data columns (total 3 columns):\n",
      " #   Column     Non-Null Count  Dtype  \n",
      "---  ------     --------------  -----  \n",
      " 0   message    26365 non-null  object \n",
      " 1   tweetid    26365 non-null  int64  \n",
      " 2   sentiment  15819 non-null  float64\n",
      "dtypes: float64(1), int64(1), object(1)\n",
      "memory usage: 823.9+ KB\n"
     ]
    }
   ],
   "source": [
    "merged_data.info() #checking the data types in the merged data"
   ]
  },
  {
   "cell_type": "code",
   "execution_count": 21,
   "id": "f2d2afa1",
   "metadata": {},
   "outputs": [
    {
     "data": {
      "text/plain": [
       "message          0\n",
       "tweetid          0\n",
       "sentiment    10546\n",
       "dtype: int64"
      ]
     },
     "execution_count": 21,
     "metadata": {},
     "output_type": "execute_result"
    }
   ],
   "source": [
    "merged_data.isnull().sum() #null values of 10,546 is okay due to the number of rows in the merged test data"
   ]
  },
  {
   "cell_type": "code",
   "execution_count": 22,
   "id": "5dcde4f4",
   "metadata": {},
   "outputs": [
    {
     "name": "stdout",
     "output_type": "stream",
     "text": [
      "[1, 2, 0, -1]\n"
     ]
    }
   ],
   "source": [
    "type_sentiment = list(df_train.sentiment.unique())\n",
    "print(type_sentiment) #viewing the number of sentiment types in our train data"
   ]
  },
  {
   "cell_type": "code",
   "execution_count": 23,
   "id": "eae60fec",
   "metadata": {},
   "outputs": [
    {
     "data": {
      "text/plain": [
       " 1    8530\n",
       " 2    3640\n",
       " 0    2353\n",
       "-1    1296\n",
       "Name: sentiment, dtype: int64"
      ]
     },
     "execution_count": 23,
     "metadata": {},
     "output_type": "execute_result"
    }
   ],
   "source": [
    "df_train['sentiment'].value_counts() #The distribution of the number of observations for the sentiments is vital as well"
   ]
  },
  {
   "cell_type": "code",
   "execution_count": 24,
   "id": "5221891c",
   "metadata": {},
   "outputs": [
    {
     "data": {
      "image/png": "[encoded data removed]",
      "text/plain": [
       "<Figure size 432x288 with 1 Axes>"
      ]
     },
     "metadata": {},
     "output_type": "display_data"
    }
   ],
   "source": [
    "df_train['sentiment'].value_counts().plot(kind = 'bar')\n",
    "plt.show() #Plotting the bar chart for a clearer view"
   ]
  },
  {
   "cell_type": "markdown",
   "id": "15f9a8f3",
   "metadata": {},
   "source": [
    "Sentiment 1 is seen to have more collected observations and -1 has the least number of observations"
   ]
  },
  {
   "cell_type": "code",
   "execution_count": 25,
   "id": "fddde5f5",
   "metadata": {},
   "outputs": [
    {
     "name": "stdout",
     "output_type": "stream",
     "text": [
      "[\"PolySciMajor EPA chief doesn't think carbon dioxide is main cause of global warming and.. wait, what!? https://t.co/yeLvcEFXkC via @mashable\", \"It's not like we lack evidence of anthropogenic global warming\", 'RT @RawStory: Researchers say we have three years to act on climate change before it’s too late https://t.co/WdT0KdUr2f https://t.co/Z0ANPT…', '#TodayinMaker# WIRED : 2016 was a pivotal year in the war on climate change https://t.co/44wOTxTLcD', \"RT @SoyNovioDeTodas: It's 2016, and a racist, sexist, climate change denying bigot is leading in the polls. #ElectionNight\"]\n"
     ]
    }
   ],
   "source": [
    "print(list(merged_data.head().message)) #checking the kind of dirt present in our data"
   ]
  },
  {
   "cell_type": "markdown",
   "id": "a40977b9",
   "metadata": {},
   "source": [
    "From the above, we have observed some dirt which include Punctuations, Stopwords and  Web urls. The removal will take turns as we prob more into the data"
   ]
  },
  {
   "cell_type": "markdown",
   "id": "9a496034",
   "metadata": {},
   "source": [
    "Let us start with web urls"
   ]
  },
  {
   "cell_type": "code",
   "execution_count": 26,
   "id": "cf841a86",
   "metadata": {},
   "outputs": [],
   "source": [
    "pattern_url = r'http[s]?://(?:[A-Za-z]|[0-9]|[$-_@.&+]|[!*\\(\\),]|(?:%[0-9A-Fa-f][0-9A-Fa-f]))+'\n",
    "subs_url = r'url-web'\n",
    "merged_data['message'] = merged_data['message'].replace(to_replace = pattern_url, value = subs_url, regex = True) #replacing web urls"
   ]
  },
  {
   "cell_type": "code",
   "execution_count": 27,
   "id": "8848f70e",
   "metadata": {},
   "outputs": [
    {
     "name": "stdout",
     "output_type": "stream",
     "text": [
      "[\"PolySciMajor EPA chief doesn't think carbon dioxide is main cause of global warming and.. wait, what!? url-web via @mashable\", \"It's not like we lack evidence of anthropogenic global warming\", 'RT @RawStory: Researchers say we have three years to act on climate change before it’s too late url-web url-web…', '#TodayinMaker# WIRED : 2016 was a pivotal year in the war on climate change url-web', \"RT @SoyNovioDeTodas: It's 2016, and a racist, sexist, climate change denying bigot is leading in the polls. #ElectionNight\"]\n"
     ]
    }
   ],
   "source": [
    "print(list(merged_data.head().message)) #Lets see how well that went"
   ]
  },
  {
   "cell_type": "markdown",
   "id": "f8a3e5ae",
   "metadata": {},
   "source": [
    "Pretty good I think"
   ]
  },
  {
   "cell_type": "code",
   "execution_count": 28,
   "id": "496d9651",
   "metadata": {},
   "outputs": [],
   "source": [
    "merged_data['message'] = merged_data['message'].str.lower() #Converting all text from upper to lower case - another form of dirt cleaning"
   ]
  },
  {
   "cell_type": "code",
   "execution_count": 29,
   "id": "2774ff11",
   "metadata": {
    "scrolled": true
   },
   "outputs": [
    {
     "name": "stdout",
     "output_type": "stream",
     "text": [
      "[\"polyscimajor epa chief doesn't think carbon dioxide is main cause of global warming and.. wait, what!? url-web via @mashable\", \"it's not like we lack evidence of anthropogenic global warming\", 'rt @rawstory: researchers say we have three years to act on climate change before it’s too late url-web url-web…', '#todayinmaker# wired : 2016 was a pivotal year in the war on climate change url-web', \"rt @soynoviodetodas: it's 2016, and a racist, sexist, climate change denying bigot is leading in the polls. #electionnight\"]\n"
     ]
    }
   ],
   "source": [
    "print(list(merged_data.head().message)) #Checking to see how well it went"
   ]
  },
  {
   "cell_type": "markdown",
   "id": "4882ef19",
   "metadata": {},
   "source": [
    "We will now remove Punctuations"
   ]
  },
  {
   "cell_type": "code",
   "execution_count": 30,
   "id": "b67982db",
   "metadata": {},
   "outputs": [],
   "source": [
    "import string #importing the required library"
   ]
  },
  {
   "cell_type": "code",
   "execution_count": 31,
   "id": "288c2a6b",
   "metadata": {},
   "outputs": [],
   "source": [
    "def remove_punctuation(post):\n",
    "    return ''.join([l for l in post if l not in string.punctuation]) #A function to assist with the task"
   ]
  },
  {
   "cell_type": "code",
   "execution_count": 32,
   "id": "edcae8be",
   "metadata": {},
   "outputs": [],
   "source": [
    "merged_data['message'] = merged_data['message'].apply(remove_punctuation) #Applyng the function for desired results"
   ]
  },
  {
   "cell_type": "code",
   "execution_count": 33,
   "id": "d268840d",
   "metadata": {
    "scrolled": true
   },
   "outputs": [
    {
     "name": "stdout",
     "output_type": "stream",
     "text": [
      "['polyscimajor epa chief doesnt think carbon dioxide is main cause of global warming and wait what urlweb via mashable', 'its not like we lack evidence of anthropogenic global warming', 'rt rawstory researchers say we have three years to act on climate change before it’s too late urlweb urlweb…', 'todayinmaker wired  2016 was a pivotal year in the war on climate change urlweb', 'rt soynoviodetodas its 2016 and a racist sexist climate change denying bigot is leading in the polls electionnight']\n"
     ]
    }
   ],
   "source": [
    "print(list(merged_data.head().message)) #Checking the results"
   ]
  },
  {
   "cell_type": "markdown",
   "id": "c06b87f7",
   "metadata": {},
   "source": [
    "Applying tokenisation to the 'message' column of the data"
   ]
  },
  {
   "cell_type": "code",
   "execution_count": 34,
   "id": "4e4f6b9c",
   "metadata": {},
   "outputs": [],
   "source": [
    "from nltk.tokenize import word_tokenize, TreebankWordTokenizer #importing the reqiured library"
   ]
  },
  {
   "cell_type": "code",
   "execution_count": 36,
   "id": "3563f2b8",
   "metadata": {},
   "outputs": [],
   "source": [
    "tokeniser = TreebankWordTokenizer()\n",
    "merged_data['tokens'] = merged_data['message'].apply(tokeniser.tokenize) # Tokenizing"
   ]
  },
  {
   "cell_type": "code",
   "execution_count": 37,
   "id": "08296f0a",
   "metadata": {
    "scrolled": true
   },
   "outputs": [
    {
     "data": {
      "text/plain": [
       "['the',\n",
       " 'washington',\n",
       " 'post',\n",
       " 'lies',\n",
       " 'nonstop',\n",
       " 'like',\n",
       " 'this',\n",
       " 'as',\n",
       " 'trump',\n",
       " 'halts',\n",
       " 'fed',\n",
       " 'action',\n",
       " 'on',\n",
       " 'climate',\n",
       " 'change',\n",
       " 'cities',\n",
       " 'amp',\n",
       " 'states',\n",
       " 'push',\n",
       " 'on',\n",
       " 'urlweb']"
      ]
     },
     "execution_count": 37,
     "metadata": {},
     "output_type": "execute_result"
    }
   ],
   "source": [
    "merged_data['tokens'].iloc[10000] #checking the result of tokenization done"
   ]
  },
  {
   "cell_type": "markdown",
   "id": "485828f3",
   "metadata": {},
   "source": [
    "We will now remove stopwords"
   ]
  },
  {
   "cell_type": "code",
   "execution_count": 65,
   "id": "0eaf2393",
   "metadata": {
    "scrolled": true
   },
   "outputs": [
    {
     "name": "stderr",
     "output_type": "stream",
     "text": [
      "[nltk_data] Downloading package punkt to\n",
      "[nltk_data]     C:\\Users\\DELL\\AppData\\Roaming\\nltk_data...\n",
      "[nltk_data]   Package punkt is already up-to-date!\n",
      "[nltk_data] Downloading package stopwords to\n",
      "[nltk_data]     C:\\Users\\DELL\\AppData\\Roaming\\nltk_data...\n",
      "[nltk_data]   Package stopwords is already up-to-date!\n"
     ]
    },
    {
     "data": {
      "text/plain": [
       "True"
      ]
     },
     "execution_count": 65,
     "metadata": {},
     "output_type": "execute_result"
    }
   ],
   "source": [
    "nltk.download(['punkt','stopwords']) "
   ]
  },
  {
   "cell_type": "code",
   "execution_count": 66,
   "id": "36192131",
   "metadata": {
    "scrolled": false
   },
   "outputs": [
    {
     "name": "stdout",
     "output_type": "stream",
     "text": [
      "['i', 'me', 'my', 'myself', 'we', 'our', 'ours', 'ourselves', 'you', \"you're\", \"you've\", \"you'll\", \"you'd\", 'your', 'yours', 'yourself', 'yourselves', 'he', 'him', 'his', 'himself', 'she', \"she's\", 'her', 'hers', 'herself', 'it', \"it's\", 'its', 'itself', 'they', 'them', 'their', 'theirs', 'themselves', 'what', 'which', 'who', 'whom', 'this', 'that', \"that'll\", 'these', 'those', 'am', 'is', 'are', 'was', 'were', 'be', 'been', 'being', 'have', 'has', 'had', 'having', 'do', 'does', 'did', 'doing', 'a', 'an', 'the', 'and', 'but', 'if', 'or', 'because', 'as', 'until', 'while', 'of', 'at', 'by', 'for', 'with', 'about', 'against', 'between', 'into', 'through', 'during', 'before', 'after', 'above', 'below', 'to', 'from', 'up', 'down', 'in', 'out', 'on', 'off', 'over', 'under', 'again', 'further', 'then', 'once', 'here', 'there', 'when', 'where', 'why', 'how', 'all', 'any', 'both', 'each', 'few', 'more', 'most', 'other', 'some', 'such', 'no', 'nor', 'not', 'only', 'own', 'same', 'so', 'than', 'too', 'very', 's', 't', 'can', 'will', 'just', 'don', \"don't\", 'should', \"should've\", 'now', 'd', 'll', 'm', 'o', 're', 've', 'y', 'ain', 'aren', \"aren't\", 'couldn', \"couldn't\", 'didn', \"didn't\", 'doesn', \"doesn't\", 'hadn', \"hadn't\", 'hasn', \"hasn't\", 'haven', \"haven't\", 'isn', \"isn't\", 'ma', 'mightn', \"mightn't\", 'mustn', \"mustn't\", 'needn', \"needn't\", 'shan', \"shan't\", 'shouldn', \"shouldn't\", 'wasn', \"wasn't\", 'weren', \"weren't\", 'won', \"won't\", 'wouldn', \"wouldn't\"]\n"
     ]
    }
   ],
   "source": [
    "from nltk.corpus import stopwords\n",
    "print(stopwords.words('english')) "
   ]
  },
  {
   "cell_type": "code",
   "execution_count": 67,
   "id": "d4702aff",
   "metadata": {},
   "outputs": [],
   "source": [
    "def remove_stop_words(tokens):    \n",
    "    return [t for t in tokens if t not in stopwords.words('english')]"
   ]
  },
  {
   "cell_type": "code",
   "execution_count": 68,
   "id": "88aa43f4",
   "metadata": {},
   "outputs": [],
   "source": [
    "merged_data['tokens'] = merged_data['tokens'].apply(remove_stop_words)"
   ]
  },
  {
   "cell_type": "code",
   "execution_count": 71,
   "id": "87398d67",
   "metadata": {},
   "outputs": [
    {
     "data": {
      "text/plain": [
       "[['rt',\n",
       "  'brittanybohrer',\n",
       "  'brb',\n",
       "  'writing',\n",
       "  'poem',\n",
       "  'climate',\n",
       "  'change',\n",
       "  'climatechange',\n",
       "  'science',\n",
       "  'poetry',\n",
       "  'fakenews',\n",
       "  'alternativefacts',\n",
       "  'urlweb…'],\n",
       " ['2016',\n",
       "  'year',\n",
       "  'climate',\n",
       "  'change',\n",
       "  'came',\n",
       "  'home',\n",
       "  'hottest',\n",
       "  'year',\n",
       "  'record',\n",
       "  'karl',\n",
       "  'mathiesen',\n",
       "  'travelled',\n",
       "  'tasmania…',\n",
       "  'urlweb'],\n",
       " ['rt',\n",
       "  'loopvanuatu',\n",
       "  'pacific',\n",
       "  'countries',\n",
       "  'positive',\n",
       "  'fiji',\n",
       "  'leading',\n",
       "  'global',\n",
       "  'climate',\n",
       "  'change',\n",
       "  'conference',\n",
       "  'november',\n",
       "  'urlweb'],\n",
       " ['rt',\n",
       "  'xanria00018',\n",
       "  'you’re',\n",
       "  'hot',\n",
       "  'must',\n",
       "  'cause',\n",
       "  'global',\n",
       "  'warming',\n",
       "  'aldublaboroflove',\n",
       "  'jophie30',\n",
       "  'asn585'],\n",
       " ['rt',\n",
       "  'chloebalaoing',\n",
       "  'climate',\n",
       "  'change',\n",
       "  'global',\n",
       "  'issue',\n",
       "  'thats',\n",
       "  'getting',\n",
       "  'worse',\n",
       "  'eating',\n",
       "  'plant',\n",
       "  'based',\n",
       "  'least',\n",
       "  'amount',\n",
       "  'effort',\n",
       "  'h…']]"
      ]
     },
     "execution_count": 71,
     "metadata": {},
     "output_type": "execute_result"
    }
   ],
   "source": [
    "list(merged_data['tokens'].tail())"
   ]
  },
  {
   "cell_type": "markdown",
   "id": "6de84753",
   "metadata": {},
   "source": [
    "Let us Stemmatize the data at this juncture"
   ]
  },
  {
   "cell_type": "code",
   "execution_count": 72,
   "id": "2f2cac9e",
   "metadata": {},
   "outputs": [],
   "source": [
    "from nltk import SnowballStemmer, PorterStemmer, LancasterStemmer"
   ]
  },
  {
   "cell_type": "code",
   "execution_count": 73,
   "id": "120a66da",
   "metadata": {},
   "outputs": [],
   "source": [
    "stemmer = SnowballStemmer('english')"
   ]
  },
  {
   "cell_type": "code",
   "execution_count": 74,
   "id": "ebe48734",
   "metadata": {},
   "outputs": [],
   "source": [
    "merged_data['stemmed'] = merged_data['tokens'].apply(lambda x: [stemmer.stem(y) for y in x])"
   ]
  },
  {
   "cell_type": "code",
   "execution_count": 75,
   "id": "01d9a8c6",
   "metadata": {
    "scrolled": true
   },
   "outputs": [
    {
     "data": {
      "text/plain": [
       "['washington',\n",
       " 'post',\n",
       " 'lie',\n",
       " 'nonstop',\n",
       " 'like',\n",
       " 'trump',\n",
       " 'halt',\n",
       " 'fed',\n",
       " 'action',\n",
       " 'climat',\n",
       " 'chang',\n",
       " 'citi',\n",
       " 'amp',\n",
       " 'state',\n",
       " 'push',\n",
       " 'urlweb']"
      ]
     },
     "execution_count": 75,
     "metadata": {},
     "output_type": "execute_result"
    }
   ],
   "source": [
    "merged_data['stemmed'].iloc[10000]"
   ]
  },
  {
   "cell_type": "code",
   "execution_count": 76,
   "id": "b125fa6a",
   "metadata": {},
   "outputs": [
    {
     "name": "stdout",
     "output_type": "stream",
     "text": [
      "washington           --> washington\n",
      "post                 --> post      \n",
      "lies                 --> lie       \n",
      "nonstop              --> nonstop   \n",
      "like                 --> like      \n",
      "trump                --> trump     \n",
      "halts                --> halt      \n",
      "fed                  --> fed       \n",
      "action               --> action    \n",
      "climate              --> climat    \n",
      "change               --> chang     \n",
      "cities               --> citi      \n",
      "amp                  --> amp       \n",
      "states               --> state     \n",
      "push                 --> push      \n",
      "urlweb               --> urlweb    \n"
     ]
    }
   ],
   "source": [
    "for i, t in enumerate(merged_data.iloc[10000]['tokens']):    \n",
    "    print ('{:20s} --> {:10s}'.format(t, merged_data.iloc[10000]['stemmed'][i]))"
   ]
  },
  {
   "cell_type": "markdown",
   "id": "7edd0da0",
   "metadata": {},
   "source": [
    "We will apply Lemmatisation below as well"
   ]
  },
  {
   "cell_type": "code",
   "execution_count": 77,
   "id": "e10dc2f1",
   "metadata": {
    "scrolled": true
   },
   "outputs": [
    {
     "name": "stderr",
     "output_type": "stream",
     "text": [
      "[nltk_data] Downloading package wordnet to\n",
      "[nltk_data]     C:\\Users\\DELL\\AppData\\Roaming\\nltk_data...\n",
      "[nltk_data]   Package wordnet is already up-to-date!\n"
     ]
    }
   ],
   "source": [
    "from nltk.stem import WordNetLemmatizer\n",
    "nltk.download('wordnet')\n",
    "\n",
    "lemmatizer = WordNetLemmatizer()"
   ]
  },
  {
   "cell_type": "code",
   "execution_count": 78,
   "id": "3cdc898d",
   "metadata": {},
   "outputs": [],
   "source": [
    "merged_data['lemma'] = merged_data['tokens'].apply(lambda x: [lemmatizer.lemmatize(y) for y in x])"
   ]
  },
  {
   "cell_type": "code",
   "execution_count": 79,
   "id": "fde173de",
   "metadata": {},
   "outputs": [
    {
     "data": {
      "text/plain": [
       "['washington',\n",
       " 'post',\n",
       " 'lie',\n",
       " 'nonstop',\n",
       " 'like',\n",
       " 'trump',\n",
       " 'halt',\n",
       " 'fed',\n",
       " 'action',\n",
       " 'climate',\n",
       " 'change',\n",
       " 'city',\n",
       " 'amp',\n",
       " 'state',\n",
       " 'push',\n",
       " 'urlweb']"
      ]
     },
     "execution_count": 79,
     "metadata": {},
     "output_type": "execute_result"
    }
   ],
   "source": [
    "merged_data['lemma'].iloc[10000]"
   ]
  },
  {
   "cell_type": "code",
   "execution_count": 80,
   "id": "2717dbb9",
   "metadata": {
    "scrolled": true
   },
   "outputs": [
    {
     "name": "stdout",
     "output_type": "stream",
     "text": [
      "washington           --> washington\n",
      "post                 --> post      \n",
      "lies                 --> lie       \n",
      "nonstop              --> nonstop   \n",
      "like                 --> like      \n",
      "trump                --> trump     \n",
      "halts                --> halt      \n",
      "fed                  --> fed       \n",
      "action               --> action    \n",
      "climate              --> climate   \n",
      "change               --> change    \n",
      "cities               --> city      \n",
      "amp                  --> amp       \n",
      "states               --> state     \n",
      "push                 --> push      \n",
      "urlweb               --> urlweb    \n"
     ]
    }
   ],
   "source": [
    "for i, t in enumerate(merged_data.iloc[10000]['tokens']):    \n",
    "    print ('{:20s} --> {:10s}'.format(t, merged_data.iloc[10000]['lemma'][i]))"
   ]
  },
  {
   "cell_type": "code",
   "execution_count": 86,
   "id": "7d3392a7",
   "metadata": {},
   "outputs": [],
   "source": [
    "df_train_new = merged_data[:len(df_train)]"
   ]
  },
  {
   "cell_type": "code",
   "execution_count": 87,
   "id": "7914e262",
   "metadata": {},
   "outputs": [],
   "source": [
    "df_test_new = merged_data[len(df_train): len(merged_data)].drop(['sentiment'], axis = 1)"
   ]
  },
  {
   "cell_type": "code",
   "execution_count": 88,
   "id": "fd4e7fb6",
   "metadata": {},
   "outputs": [
    {
     "data": {
      "text/html": [
       "<div>\n",
       "<style scoped>\n",
       "    .dataframe tbody tr th:only-of-type {\n",
       "        vertical-align: middle;\n",
       "    }\n",
       "\n",
       "    .dataframe tbody tr th {\n",
       "        vertical-align: top;\n",
       "    }\n",
       "\n",
       "    .dataframe thead th {\n",
       "        text-align: right;\n",
       "    }\n",
       "</style>\n",
       "<table border=\"1\" class=\"dataframe\">\n",
       "  <thead>\n",
       "    <tr style=\"text-align: right;\">\n",
       "      <th></th>\n",
       "      <th>message</th>\n",
       "      <th>tweetid</th>\n",
       "      <th>sentiment</th>\n",
       "      <th>tokens</th>\n",
       "      <th>stemmed</th>\n",
       "      <th>lemma</th>\n",
       "    </tr>\n",
       "  </thead>\n",
       "  <tbody>\n",
       "    <tr>\n",
       "      <th>0</th>\n",
       "      <td>polyscimajor epa chief doesnt think carbon dio...</td>\n",
       "      <td>625221</td>\n",
       "      <td>1.0</td>\n",
       "      <td>[polyscimajor, epa, chief, doesnt, think, carb...</td>\n",
       "      <td>[polyscimajor, epa, chief, doesnt, think, carb...</td>\n",
       "      <td>[polyscimajor, epa, chief, doesnt, think, carb...</td>\n",
       "    </tr>\n",
       "    <tr>\n",
       "      <th>1</th>\n",
       "      <td>its not like we lack evidence of anthropogenic...</td>\n",
       "      <td>126103</td>\n",
       "      <td>1.0</td>\n",
       "      <td>[like, lack, evidence, anthropogenic, global, ...</td>\n",
       "      <td>[like, lack, evid, anthropogen, global, warm]</td>\n",
       "      <td>[like, lack, evidence, anthropogenic, global, ...</td>\n",
       "    </tr>\n",
       "    <tr>\n",
       "      <th>2</th>\n",
       "      <td>rt rawstory researchers say we have three year...</td>\n",
       "      <td>698562</td>\n",
       "      <td>2.0</td>\n",
       "      <td>[rt, rawstory, researchers, say, three, years,...</td>\n",
       "      <td>[rt, rawstori, research, say, three, year, act...</td>\n",
       "      <td>[rt, rawstory, researcher, say, three, year, a...</td>\n",
       "    </tr>\n",
       "    <tr>\n",
       "      <th>3</th>\n",
       "      <td>todayinmaker wired  2016 was a pivotal year in...</td>\n",
       "      <td>573736</td>\n",
       "      <td>1.0</td>\n",
       "      <td>[todayinmaker, wired, 2016, pivotal, year, war...</td>\n",
       "      <td>[todayinmak, wire, 2016, pivot, year, war, cli...</td>\n",
       "      <td>[todayinmaker, wired, 2016, pivotal, year, war...</td>\n",
       "    </tr>\n",
       "    <tr>\n",
       "      <th>4</th>\n",
       "      <td>rt soynoviodetodas its 2016 and a racist sexis...</td>\n",
       "      <td>466954</td>\n",
       "      <td>1.0</td>\n",
       "      <td>[rt, soynoviodetodas, 2016, racist, sexist, cl...</td>\n",
       "      <td>[rt, soynoviodetoda, 2016, racist, sexist, cli...</td>\n",
       "      <td>[rt, soynoviodetodas, 2016, racist, sexist, cl...</td>\n",
       "    </tr>\n",
       "  </tbody>\n",
       "</table>\n",
       "</div>"
      ],
      "text/plain": [
       "                                             message  tweetid  sentiment  \\\n",
       "0  polyscimajor epa chief doesnt think carbon dio...   625221        1.0   \n",
       "1  its not like we lack evidence of anthropogenic...   126103        1.0   \n",
       "2  rt rawstory researchers say we have three year...   698562        2.0   \n",
       "3  todayinmaker wired  2016 was a pivotal year in...   573736        1.0   \n",
       "4  rt soynoviodetodas its 2016 and a racist sexis...   466954        1.0   \n",
       "\n",
       "                                              tokens  \\\n",
       "0  [polyscimajor, epa, chief, doesnt, think, carb...   \n",
       "1  [like, lack, evidence, anthropogenic, global, ...   \n",
       "2  [rt, rawstory, researchers, say, three, years,...   \n",
       "3  [todayinmaker, wired, 2016, pivotal, year, war...   \n",
       "4  [rt, soynoviodetodas, 2016, racist, sexist, cl...   \n",
       "\n",
       "                                             stemmed  \\\n",
       "0  [polyscimajor, epa, chief, doesnt, think, carb...   \n",
       "1      [like, lack, evid, anthropogen, global, warm]   \n",
       "2  [rt, rawstori, research, say, three, year, act...   \n",
       "3  [todayinmak, wire, 2016, pivot, year, war, cli...   \n",
       "4  [rt, soynoviodetoda, 2016, racist, sexist, cli...   \n",
       "\n",
       "                                               lemma  \n",
       "0  [polyscimajor, epa, chief, doesnt, think, carb...  \n",
       "1  [like, lack, evidence, anthropogenic, global, ...  \n",
       "2  [rt, rawstory, researcher, say, three, year, a...  \n",
       "3  [todayinmaker, wired, 2016, pivotal, year, war...  \n",
       "4  [rt, soynoviodetodas, 2016, racist, sexist, cl...  "
      ]
     },
     "execution_count": 88,
     "metadata": {},
     "output_type": "execute_result"
    }
   ],
   "source": [
    "df_train_new.head()"
   ]
  },
  {
   "cell_type": "code",
   "execution_count": 89,
   "id": "d47a8086",
   "metadata": {},
   "outputs": [
    {
     "data": {
      "text/plain": [
       "(15819, 6)"
      ]
     },
     "execution_count": 89,
     "metadata": {},
     "output_type": "execute_result"
    }
   ],
   "source": [
    "df_train_new.shape"
   ]
  },
  {
   "cell_type": "code",
   "execution_count": 90,
   "id": "3aba55a8",
   "metadata": {},
   "outputs": [
    {
     "data": {
      "text/html": [
       "<div>\n",
       "<style scoped>\n",
       "    .dataframe tbody tr th:only-of-type {\n",
       "        vertical-align: middle;\n",
       "    }\n",
       "\n",
       "    .dataframe tbody tr th {\n",
       "        vertical-align: top;\n",
       "    }\n",
       "\n",
       "    .dataframe thead th {\n",
       "        text-align: right;\n",
       "    }\n",
       "</style>\n",
       "<table border=\"1\" class=\"dataframe\">\n",
       "  <thead>\n",
       "    <tr style=\"text-align: right;\">\n",
       "      <th></th>\n",
       "      <th>message</th>\n",
       "      <th>tweetid</th>\n",
       "      <th>tokens</th>\n",
       "      <th>stemmed</th>\n",
       "      <th>lemma</th>\n",
       "    </tr>\n",
       "  </thead>\n",
       "  <tbody>\n",
       "    <tr>\n",
       "      <th>0</th>\n",
       "      <td>europe will now be looking to china to make su...</td>\n",
       "      <td>169760</td>\n",
       "      <td>[europe, looking, china, make, sure, alone, fi...</td>\n",
       "      <td>[europ, look, china, make, sure, alon, fight, ...</td>\n",
       "      <td>[europe, looking, china, make, sure, alone, fi...</td>\n",
       "    </tr>\n",
       "    <tr>\n",
       "      <th>1</th>\n",
       "      <td>combine this with the polling of staffers re c...</td>\n",
       "      <td>35326</td>\n",
       "      <td>[combine, polling, staffers, climate, change, ...</td>\n",
       "      <td>[combin, poll, staffer, climat, chang, women, ...</td>\n",
       "      <td>[combine, polling, staffer, climate, change, w...</td>\n",
       "    </tr>\n",
       "    <tr>\n",
       "      <th>2</th>\n",
       "      <td>the scary unimpeachable evidence that climate ...</td>\n",
       "      <td>224985</td>\n",
       "      <td>[scary, unimpeachable, evidence, climate, chan...</td>\n",
       "      <td>[scari, unimpeach, evid, climat, chang, alread...</td>\n",
       "      <td>[scary, unimpeachable, evidence, climate, chan...</td>\n",
       "    </tr>\n",
       "    <tr>\n",
       "      <th>3</th>\n",
       "      <td>karoli morgfair osborneink dailykos \\nputin go...</td>\n",
       "      <td>476263</td>\n",
       "      <td>[karoli, morgfair, osborneink, dailykos, putin...</td>\n",
       "      <td>[karoli, morgfair, osborneink, dailyko, putin,...</td>\n",
       "      <td>[karoli, morgfair, osborneink, dailykos, putin...</td>\n",
       "    </tr>\n",
       "    <tr>\n",
       "      <th>4</th>\n",
       "      <td>rt fakewillmoore female orgasms cause global w...</td>\n",
       "      <td>872928</td>\n",
       "      <td>[rt, fakewillmoore, female, orgasms, cause, gl...</td>\n",
       "      <td>[rt, fakewillmoor, femal, orgasm, caus, global...</td>\n",
       "      <td>[rt, fakewillmoore, female, orgasm, cause, glo...</td>\n",
       "    </tr>\n",
       "  </tbody>\n",
       "</table>\n",
       "</div>"
      ],
      "text/plain": [
       "                                             message  tweetid  \\\n",
       "0  europe will now be looking to china to make su...   169760   \n",
       "1  combine this with the polling of staffers re c...    35326   \n",
       "2  the scary unimpeachable evidence that climate ...   224985   \n",
       "3  karoli morgfair osborneink dailykos \\nputin go...   476263   \n",
       "4  rt fakewillmoore female orgasms cause global w...   872928   \n",
       "\n",
       "                                              tokens  \\\n",
       "0  [europe, looking, china, make, sure, alone, fi...   \n",
       "1  [combine, polling, staffers, climate, change, ...   \n",
       "2  [scary, unimpeachable, evidence, climate, chan...   \n",
       "3  [karoli, morgfair, osborneink, dailykos, putin...   \n",
       "4  [rt, fakewillmoore, female, orgasms, cause, gl...   \n",
       "\n",
       "                                             stemmed  \\\n",
       "0  [europ, look, china, make, sure, alon, fight, ...   \n",
       "1  [combin, poll, staffer, climat, chang, women, ...   \n",
       "2  [scari, unimpeach, evid, climat, chang, alread...   \n",
       "3  [karoli, morgfair, osborneink, dailyko, putin,...   \n",
       "4  [rt, fakewillmoor, femal, orgasm, caus, global...   \n",
       "\n",
       "                                               lemma  \n",
       "0  [europe, looking, china, make, sure, alone, fi...  \n",
       "1  [combine, polling, staffer, climate, change, w...  \n",
       "2  [scary, unimpeachable, evidence, climate, chan...  \n",
       "3  [karoli, morgfair, osborneink, dailykos, putin...  \n",
       "4  [rt, fakewillmoore, female, orgasm, cause, glo...  "
      ]
     },
     "execution_count": 90,
     "metadata": {},
     "output_type": "execute_result"
    }
   ],
   "source": [
    "df_test_new.head()"
   ]
  },
  {
   "cell_type": "markdown",
   "id": "c3968263",
   "metadata": {},
   "source": [
    "## Text feature extraction\n",
    "\n",
    "### Bag of words model"
   ]
  },
  {
   "cell_type": "code",
   "execution_count": 91,
   "id": "50b08e69",
   "metadata": {},
   "outputs": [],
   "source": [
    "def bag_of_words_count(words, word_dict={}):\n",
    "    \"\"\" this function takes in a list of words and returns a dictionary \n",
    "        with each word as a key, and the value represents the number of \n",
    "        times that word appeared\"\"\"\n",
    "    for word in words:\n",
    "        if word in word_dict.keys():\n",
    "            word_dict[word] += 1\n",
    "        else:\n",
    "            word_dict[word] = 1\n",
    "    return word_dict"
   ]
  },
  {
   "cell_type": "code",
   "execution_count": null,
   "id": "3588d84c",
   "metadata": {},
   "outputs": [],
   "source": []
  },
  {
   "cell_type": "code",
   "execution_count": 93,
   "id": "525028cf",
   "metadata": {},
   "outputs": [],
   "source": [
    "personality = {}\n",
    "for pp in type_sentiment:\n",
    "    df = df_train_new.groupby('sentiment')\n",
    "    personality[pp] = {}\n",
    "    for row in df.get_group(pp)['lemma']:\n",
    "        personality[pp] = bag_of_words_count(row, personality[pp]) "
   ]
  },
  {
   "cell_type": "code",
   "execution_count": null,
   "id": "1d81634e",
   "metadata": {},
   "outputs": [],
   "source": []
  },
  {
   "cell_type": "code",
   "execution_count": 94,
   "id": "23e4056f",
   "metadata": {},
   "outputs": [],
   "source": [
    "all_words = set()\n",
    "for pp in type_sentiment:\n",
    "    for word in personality[pp]:\n",
    "        all_words.add(word)"
   ]
  },
  {
   "cell_type": "code",
   "execution_count": null,
   "id": "439f897a",
   "metadata": {},
   "outputs": [],
   "source": []
  },
  {
   "cell_type": "code",
   "execution_count": 95,
   "id": "12971bf0",
   "metadata": {},
   "outputs": [],
   "source": [
    "personality['all'] = {}\n",
    "for pp in type_sentiment:    \n",
    "    for word in all_words:\n",
    "        if word in personality[pp].keys():\n",
    "            if word in personality['all']:\n",
    "                personality['all'][word] += personality[pp][word]\n",
    "            else:\n",
    "                personality['all'][word] = personality[pp][word]"
   ]
  },
  {
   "cell_type": "code",
   "execution_count": null,
   "id": "60b091e3",
   "metadata": {},
   "outputs": [],
   "source": []
  },
  {
   "cell_type": "code",
   "execution_count": 96,
   "id": "0a3066ea",
   "metadata": {},
   "outputs": [
    {
     "data": {
      "text/plain": [
       "196701"
      ]
     },
     "execution_count": 96,
     "metadata": {},
     "output_type": "execute_result"
    }
   ],
   "source": [
    "total_words = sum([v for v in personality['all'].values()])\n",
    "total_words"
   ]
  },
  {
   "cell_type": "code",
   "execution_count": null,
   "id": "014d51d5",
   "metadata": {},
   "outputs": [],
   "source": []
  },
  {
   "cell_type": "code",
   "execution_count": 100,
   "id": "4d270b6c",
   "metadata": {},
   "outputs": [
    {
     "data": {
      "text/plain": [
       "Text(0.5, 0, 'word frequency')"
      ]
     },
     "execution_count": 100,
     "metadata": {},
     "output_type": "execute_result"
    },
    {
     "data": {
      "image/png": "[encoded data removed]",
      "text/plain": [
       "<Figure size 432x288 with 1 Axes>"
      ]
     },
     "metadata": {},
     "output_type": "display_data"
    }
   ],
   "source": [
    "_ = plt.hist([v for v in personality['all'].values() if v < 10],bins=10)\n",
    "plt.ylabel(\"# of words\")\n",
    "plt.xlabel(\"word frequency\")"
   ]
  },
  {
   "cell_type": "code",
   "execution_count": null,
   "id": "9fd2e099",
   "metadata": {},
   "outputs": [],
   "source": []
  },
  {
   "cell_type": "code",
   "execution_count": 101,
   "id": "6b475209",
   "metadata": {},
   "outputs": [
    {
     "data": {
      "text/plain": [
       "16033"
      ]
     },
     "execution_count": 101,
     "metadata": {},
     "output_type": "execute_result"
    }
   ],
   "source": [
    "len([v for v in personality['all'].values() if v == 1])"
   ]
  },
  {
   "cell_type": "code",
   "execution_count": null,
   "id": "d972b3ff",
   "metadata": {},
   "outputs": [],
   "source": []
  },
  {
   "cell_type": "code",
   "execution_count": 105,
   "id": "66377455",
   "metadata": {},
   "outputs": [
    {
     "name": "stdout",
     "output_type": "stream",
     "text": [
      "['cancel', 'increase', 'attack', 'exists', 'expect', 'slate', 'brown', 'frightening', 'noaa', 'nice', 'nature', 'coral', 'stupid', 'bigger', 'hand', 'g20']\n"
     ]
    }
   ],
   "source": [
    "rare_words = [k for k, v in personality['all'].items() if v==1] \n",
    "print(rare_words[:100])"
   ]
  },
  {
   "cell_type": "code",
   "execution_count": null,
   "id": "6e2a9943",
   "metadata": {},
   "outputs": [],
   "source": []
  },
  {
   "cell_type": "code",
   "execution_count": 106,
   "id": "71daa948",
   "metadata": {},
   "outputs": [
    {
     "name": "stdout",
     "output_type": "stream",
     "text": [
      "2254\n",
      "157141\n"
     ]
    }
   ],
   "source": [
    "# how many words appear more than 10 times?\n",
    "# how many words of the total does that account for?\n",
    "print(len([v for v in personality['all'].values() if v >= 10]))\n",
    "occurs_more_than_10_times = sum([v for v in personality['all'].values() if v >= 10])\n",
    "print(occurs_more_than_10_times)"
   ]
  },
  {
   "cell_type": "code",
   "execution_count": null,
   "id": "5c18ef52",
   "metadata": {},
   "outputs": [],
   "source": []
  },
  {
   "cell_type": "code",
   "execution_count": 107,
   "id": "b7765aee",
   "metadata": {},
   "outputs": [
    {
     "data": {
      "text/plain": [
       "0.798882567958475"
      ]
     },
     "execution_count": 107,
     "metadata": {},
     "output_type": "execute_result"
    }
   ],
   "source": [
    "occurs_more_than_10_times/total_words"
   ]
  },
  {
   "cell_type": "code",
   "execution_count": null,
   "id": "532e32fd",
   "metadata": {},
   "outputs": [],
   "source": []
  },
  {
   "cell_type": "code",
   "execution_count": 108,
   "id": "1c65e7bc",
   "metadata": {},
   "outputs": [],
   "source": [
    "max_count = 10\n",
    "remaining_word_index = [k for k, v in personality['all'].items() if v > max_count]"
   ]
  },
  {
   "cell_type": "code",
   "execution_count": null,
   "id": "6cf6deca",
   "metadata": {},
   "outputs": [],
   "source": []
  },
  {
   "cell_type": "code",
   "execution_count": null,
   "id": "2e4f8139",
   "metadata": {},
   "outputs": [],
   "source": []
  },
  {
   "cell_type": "code",
   "execution_count": null,
   "id": "22c52300",
   "metadata": {},
   "outputs": [],
   "source": []
  },
  {
   "cell_type": "code",
   "execution_count": null,
   "id": "22caa4cd",
   "metadata": {},
   "outputs": [],
   "source": []
  },
  {
   "cell_type": "code",
   "execution_count": null,
   "id": "508bad97",
   "metadata": {},
   "outputs": [],
   "source": []
  }
 ],
 "metadata": {
  "kernelspec": {
   "display_name": "Python 3 (ipykernel)",
   "language": "python",
   "name": "python3"
  },
  "language_info": {
   "codemirror_mode": {
    "name": "ipython",
    "version": 3
   },
   "file_extension": ".py",
   "mimetype": "text/x-python",
   "name": "python",
   "nbconvert_exporter": "python",
   "pygments_lexer": "ipython3",
   "version": "3.9.7"
  }
 },
 "nbformat": 4,
 "nbformat_minor": 5
}
